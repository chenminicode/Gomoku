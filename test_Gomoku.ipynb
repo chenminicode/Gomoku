{
 "cells": [
  {
   "cell_type": "code",
   "execution_count": 26,
   "id": "e17eedb5-4c2c-499b-a615-a460400e5f41",
   "metadata": {},
   "outputs": [],
   "source": [
    "import numpy as np\n",
    "import torch\n",
    "from torch import nn\n",
    "from torch.utils.data import DataLoader\n",
    "from torchvision import datasets\n",
    "from torchvision.transforms import ToTensor\n",
    "import matplotlib.pyplot as plt"
   ]
  },
  {
   "cell_type": "markdown",
   "id": "c803290a-60d2-4721-936f-46115e258be9",
   "metadata": {},
   "source": [
    "# Define model"
   ]
  },
  {
   "cell_type": "code",
   "execution_count": 7,
   "id": "ba8e5008-9b96-43d3-a8c9-4237b0b8fcd9",
   "metadata": {},
   "outputs": [],
   "source": [
    "class NeuralNetwork(nn.Module):\n",
    "    def __init__(self):\n",
    "        super().__init__()\n",
    "        self.model = nn.Sequential(\n",
    "            nn.Conv2d(1, 64, (7, 7), padding='same'), \n",
    "            nn.ReLU(),\n",
    "            nn.Conv2d(64, 128, (7, 7), padding='same'),\n",
    "            nn.ReLU(),\n",
    "            nn.Conv2d(128, 64, (7, 7), padding='same'),\n",
    "            nn.ReLU(),\n",
    "            nn.Conv2d(64, 1, (1, 1), padding='same'),\n",
    "            nn.Flatten(),\n",
    "            nn.Softmax(dim=1)\n",
    "        )\n",
    "\n",
    "    def forward(self, x):\n",
    "        logits = self.model(x)\n",
    "        return logits"
   ]
  },
  {
   "cell_type": "markdown",
   "id": "2cc76803-e898-4465-ba89-9cb3163ffd27",
   "metadata": {},
   "source": [
    "# Train Model\n",
    "Because I don't have GPU, I trained model on Kaggle, than from Kaggle, downloaded the\n",
    "trained model.\n",
    "\n",
    "Please vist this page if you want to check how the model is trained:\n",
    "https://www.kaggle.com/code/metseq/gomoku-ai/edit"
   ]
  },
  {
   "cell_type": "markdown",
   "id": "5e40ccc6-3140-4c3e-9484-fb4dae47d74f",
   "metadata": {},
   "source": [
    "# Load model"
   ]
  },
  {
   "cell_type": "code",
   "execution_count": 10,
   "id": "a8be90f7-88e2-490a-b4fd-6c3760fe3b79",
   "metadata": {},
   "outputs": [],
   "source": [
    "model = NeuralNetwork()"
   ]
  },
  {
   "cell_type": "code",
   "execution_count": 13,
   "id": "bf59affa-4cf7-483b-9b4e-c054dcd803cf",
   "metadata": {},
   "outputs": [
    {
     "data": {
      "text/plain": [
       "<All keys matched successfully>"
      ]
     },
     "execution_count": 13,
     "metadata": {},
     "output_type": "execute_result"
    }
   ],
   "source": [
    "model.load_state_dict(torch.load(\"model.pth\", map_location=torch.device('cpu')))"
   ]
  },
  {
   "cell_type": "code",
   "execution_count": 14,
   "id": "71ed98bd-59e5-41bf-84c0-e43b86b9ad19",
   "metadata": {},
   "outputs": [
    {
     "data": {
      "text/plain": [
       "NeuralNetwork(\n",
       "  (model): Sequential(\n",
       "    (0): Conv2d(1, 64, kernel_size=(7, 7), stride=(1, 1), padding=same)\n",
       "    (1): ReLU()\n",
       "    (2): Conv2d(64, 128, kernel_size=(7, 7), stride=(1, 1), padding=same)\n",
       "    (3): ReLU()\n",
       "    (4): Conv2d(128, 64, kernel_size=(7, 7), stride=(1, 1), padding=same)\n",
       "    (5): ReLU()\n",
       "    (6): Conv2d(64, 1, kernel_size=(1, 1), stride=(1, 1), padding=same)\n",
       "    (7): Flatten(start_dim=1, end_dim=-1)\n",
       "    (8): Softmax(dim=1)\n",
       "  )\n",
       ")"
      ]
     },
     "execution_count": 14,
     "metadata": {},
     "output_type": "execute_result"
    }
   ],
   "source": [
    "model"
   ]
  },
  {
   "cell_type": "markdown",
   "id": "6d7a3056-3480-4596-8013-a670c5c7d884",
   "metadata": {},
   "source": [
    "# Test model predict"
   ]
  },
  {
   "cell_type": "code",
   "execution_count": 61,
   "id": "ee1d847a-1afe-4b9e-a0b9-ec9bcd1081ab",
   "metadata": {},
   "outputs": [],
   "source": [
    "x = torch.Tensor(np.zeros((1, 20, 20)))"
   ]
  },
  {
   "cell_type": "code",
   "execution_count": 62,
   "id": "37752b4d-c77d-4073-a18a-c76ee40d689d",
   "metadata": {},
   "outputs": [],
   "source": [
    "x[0, 5, 5] = -1"
   ]
  },
  {
   "cell_type": "code",
   "execution_count": 63,
   "id": "63c152b4-3c09-44b3-828b-7754cbf3a87c",
   "metadata": {},
   "outputs": [
    {
     "data": {
      "text/plain": [
       "torch.Size([1, 20, 20])"
      ]
     },
     "execution_count": 63,
     "metadata": {},
     "output_type": "execute_result"
    }
   ],
   "source": [
    "x.shape"
   ]
  },
  {
   "cell_type": "code",
   "execution_count": 70,
   "id": "8ba1af4c-7f8e-421e-81e1-1cf776d184f4",
   "metadata": {},
   "outputs": [],
   "source": [
    "predict_move = model(x).view(20, 20).detach().numpy()"
   ]
  },
  {
   "cell_type": "code",
   "execution_count": 74,
   "id": "db244d61-30c0-412c-ac10-802286865c3e",
   "metadata": {},
   "outputs": [
    {
     "data": {
      "text/plain": [
       "(5, 6)"
      ]
     },
     "execution_count": 74,
     "metadata": {},
     "output_type": "execute_result"
    }
   ],
   "source": [
    "ind = np.unravel_index(np.argmax(predict_move, axis=None), predict_move.shape)\n",
    "ind"
   ]
  },
  {
   "cell_type": "code",
   "execution_count": 76,
   "id": "dcaea30e-d5d6-4545-b87b-d1f3a4953778",
   "metadata": {},
   "outputs": [],
   "source": [
    "def next_move(x):\n",
    "    predict_move = model(x).view(20, 20).detach().numpy()\n",
    "    ind = np.unravel_index(np.argmax(predict_move, axis=None), predict_move.shape)\n",
    "    return ind"
   ]
  },
  {
   "cell_type": "code",
   "execution_count": 79,
   "id": "7483323e-1b8e-46b2-99ce-9e0624401c8a",
   "metadata": {},
   "outputs": [],
   "source": [
    "ind = next_move(x)"
   ]
  },
  {
   "cell_type": "code",
   "execution_count": 83,
   "id": "adff79a7-9a09-43f8-8e8f-bd648fb6c5ca",
   "metadata": {},
   "outputs": [],
   "source": [
    "def update_board(x, ind):\n",
    "    x[0, ind[0], ind[1]] = 1"
   ]
  },
  {
   "cell_type": "code",
   "execution_count": 84,
   "id": "0e0b8299-f30d-4eb5-a7d2-06fd8f4b12a5",
   "metadata": {},
   "outputs": [],
   "source": [
    "update_board(x, ind)"
   ]
  },
  {
   "cell_type": "code",
   "execution_count": 85,
   "id": "af048deb-ac55-42e7-98de-74353c9a2eb5",
   "metadata": {},
   "outputs": [],
   "source": [
    "def show_board(x):\n",
    "    plt.imshow(x.view(20, 20).detach().numpy())"
   ]
  },
  {
   "cell_type": "code",
   "execution_count": 86,
   "id": "b316f104-d234-4530-acb4-d1aa1e07e0f0",
   "metadata": {},
   "outputs": [
    {
     "data": {
      "image/png": "[encoded data removed]",
      "text/plain": [
       "<Figure size 432x288 with 1 Axes>"
      ]
     },
     "metadata": {
      "needs_background": "light"
     },
     "output_type": "display_data"
    }
   ],
   "source": [
    "show_board(x)"
   ]
  },
  {
   "cell_type": "code",
   "execution_count": 89,
   "id": "17ea6976-f788-490f-89cf-3e229e12cef2",
   "metadata": {},
   "outputs": [],
   "source": [
    "def invert_player(x):\n",
    "    x[(x == 1) & (x != 0)] = -1\n",
    "    x[(x == -1) & (x != 0)] = 1"
   ]
  },
  {
   "cell_type": "code",
   "execution_count": 90,
   "id": "c2f16e28-6dc2-484e-b41e-eafc6b818148",
   "metadata": {},
   "outputs": [],
   "source": [
    "# Player move\n",
    "x[0, 6, 6] = -1"
   ]
  },
  {
   "cell_type": "code",
   "execution_count": 91,
   "id": "a4538c08-45ae-4598-8bbe-a080229fb136",
   "metadata": {},
   "outputs": [
    {
     "data": {
      "image/png": "[encoded data removed]",
      "text/plain": [
       "<Figure size 432x288 with 1 Axes>"
      ]
     },
     "metadata": {
      "needs_background": "light"
     },
     "output_type": "display_data"
    }
   ],
   "source": [
    "show_board(x)"
   ]
  },
  {
   "cell_type": "code",
   "execution_count": 92,
   "id": "924a7cb5-3d57-41a9-93e4-0ec40e12f91b",
   "metadata": {},
   "outputs": [
    {
     "data": {
      "text/plain": [
       "(7, 7)"
      ]
     },
     "execution_count": 92,
     "metadata": {},
     "output_type": "execute_result"
    }
   ],
   "source": [
    "# AI move\n",
    "ind = next_move(x)\n",
    "ind"
   ]
  },
  {
   "cell_type": "code",
   "execution_count": 94,
   "id": "4b5581a9-09e6-47a6-96d5-86e3898287de",
   "metadata": {},
   "outputs": [
    {
     "data": {
      "image/png": "[encoded data removed]",
      "text/plain": [
       "<Figure size 432x288 with 1 Axes>"
      ]
     },
     "metadata": {
      "needs_background": "light"
     },
     "output_type": "display_data"
    }
   ],
   "source": [
    "update_board(x, ind)\n",
    "show_board(x)"
   ]
  },
  {
   "cell_type": "code",
   "execution_count": 95,
   "id": "4c063282-ab38-4f20-823b-78265b35cced",
   "metadata": {},
   "outputs": [],
   "source": [
    "# player move\n",
    "x[0, 5, 7] = -1"
   ]
  },
  {
   "cell_type": "code",
   "execution_count": 96,
   "id": "8c1f7769-220f-4483-9924-dfce6a182e82",
   "metadata": {},
   "outputs": [
    {
     "data": {
      "image/png": "[encoded data removed]",
      "text/plain": [
       "<Figure size 432x288 with 1 Axes>"
      ]
     },
     "metadata": {
      "needs_background": "light"
     },
     "output_type": "display_data"
    }
   ],
   "source": [
    "show_board(x)"
   ]
  },
  {
   "cell_type": "code",
   "execution_count": 97,
   "id": "a3c8fe66-a472-4183-86e1-00800d0babe2",
   "metadata": {},
   "outputs": [
    {
     "data": {
      "text/plain": [
       "(7, 5)"
      ]
     },
     "execution_count": 97,
     "metadata": {},
     "output_type": "execute_result"
    }
   ],
   "source": [
    "# AI move\n",
    "ind = next_move(x)\n",
    "ind"
   ]
  },
  {
   "cell_type": "code",
   "execution_count": 98,
   "id": "601e169f-c2a6-4839-ae64-169f582dcad2",
   "metadata": {},
   "outputs": [
    {
     "data": {
      "image/png": "[encoded data removed]",
      "text/plain": [
       "<Figure size 432x288 with 1 Axes>"
      ]
     },
     "metadata": {
      "needs_background": "light"
     },
     "output_type": "display_data"
    }
   ],
   "source": [
    "update_board(x, ind)\n",
    "show_board(x)"
   ]
  },
  {
   "cell_type": "code",
   "execution_count": 100,
   "id": "07742617-6168-4afc-ad9e-0ec4cea4dd08",
   "metadata": {},
   "outputs": [
    {
     "data": {
      "image/png": "[encoded data removed]",
      "text/plain": [
       "<Figure size 432x288 with 1 Axes>"
      ]
     },
     "metadata": {
      "needs_background": "light"
     },
     "output_type": "display_data"
    }
   ],
   "source": [
    "# player move\n",
    "x[0, 4, 8] = -1\n",
    "show_board(x)"
   ]
  },
  {
   "cell_type": "code",
   "execution_count": 102,
   "id": "4c2f2cbe-f3e8-450d-9071-8ec41e0dc588",
   "metadata": {},
   "outputs": [],
   "source": [
    "# AI move\n",
    "def AI_move(x):\n",
    "    ind = next_move(x)\n",
    "    print(ind)\n",
    "    update_board(x, ind)\n",
    "    show_board(x)"
   ]
  },
  {
   "cell_type": "code",
   "execution_count": 103,
   "id": "0c8f7831-6adc-483e-8e6a-db6b39671b98",
   "metadata": {},
   "outputs": [
    {
     "name": "stdout",
     "output_type": "stream",
     "text": [
      "(6, 8)\n"
     ]
    },
    {
     "data": {
      "image/png": "[encoded data removed]",
      "text/plain": [
       "<Figure size 432x288 with 1 Axes>"
      ]
     },
     "metadata": {
      "needs_background": "light"
     },
     "output_type": "display_data"
    }
   ],
   "source": [
    "AI_move(x)"
   ]
  },
  {
   "cell_type": "code",
   "execution_count": 105,
   "id": "f0413814-8fcd-4db3-9383-5bd76f0d29a1",
   "metadata": {},
   "outputs": [
    {
     "data": {
      "image/png": "[encoded data removed]",
      "text/plain": [
       "<Figure size 432x288 with 1 Axes>"
      ]
     },
     "metadata": {
      "needs_background": "light"
     },
     "output_type": "display_data"
    }
   ],
   "source": [
    "# player move\n",
    "x[0, 3, 9] = -1\n",
    "show_board(x)"
   ]
  },
  {
   "cell_type": "code",
   "execution_count": 106,
   "id": "c905d2cd-eeb1-4725-ad3b-a5a55177176f",
   "metadata": {},
   "outputs": [
    {
     "name": "stdout",
     "output_type": "stream",
     "text": [
      "(2, 10)\n"
     ]
    },
    {
     "data": {
      "image/png": "[encoded data removed]",
      "text/plain": [
       "<Figure size 432x288 with 1 Axes>"
      ]
     },
     "metadata": {
      "needs_background": "light"
     },
     "output_type": "display_data"
    }
   ],
   "source": [
    "# AI move\n",
    "AI_move(x)"
   ]
  },
  {
   "cell_type": "code",
   "execution_count": null,
   "id": "997dc670-5217-497f-8187-5018173f721f",
   "metadata": {},
   "outputs": [],
   "source": []
  }
 ],
 "metadata": {
  "kernelspec": {
   "display_name": "fastai",
   "language": "python",
   "name": "fastai"
  },
  "language_info": {
   "codemirror_mode": {
    "name": "ipython",
    "version": 3
   },
   "file_extension": ".py",
   "mimetype": "text/x-python",
   "name": "python",
   "nbconvert_exporter": "python",
   "pygments_lexer": "ipython3",
   "version": "3.9.0"
  }
 },
 "nbformat": 4,
 "nbformat_minor": 5
}
